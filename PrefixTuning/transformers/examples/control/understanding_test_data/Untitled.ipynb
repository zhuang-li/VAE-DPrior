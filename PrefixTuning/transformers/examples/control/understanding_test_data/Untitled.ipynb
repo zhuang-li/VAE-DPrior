{
 "cells": [
  {
   "cell_type": "code",
   "execution_count": 1,
   "metadata": {},
   "outputs": [],
   "source": [
    "src_file = \"./old_test.source\"\n",
    "src_lines = []\n",
    "with open(src_file, encoding=\"utf-8\") as f:\n",
    "    for line in f:\n",
    "        line = line.strip()\n",
    "        if len(line) > 0 and not line.isspace():\n",
    "            src_lines.append(line)\n",
    "\n",
    "new_src_line = \"./test.source\"\n",
    "hash_dict = dict()\n",
    "with open(new_src_line, 'w') as f:\n",
    "    for label in src_lines:\n",
    "        if not label in hash_dict:\n",
    "            label_id = len(hash_dict)\n",
    "            hash_dict[label] = label_id\n",
    "        else:\n",
    "            label_id = hash_dict[label]\n",
    "        f.write(str(label_id) + '\\t' + label + '\\n')"
   ]
  },
  {
   "cell_type": "code",
   "execution_count": null,
   "metadata": {},
   "outputs": [],
   "source": []
  }
 ],
 "metadata": {
  "kernelspec": {
   "display_name": "Python 3",
   "language": "python",
   "name": "python3"
  },
  "language_info": {
   "codemirror_mode": {
    "name": "ipython",
    "version": 3
   },
   "file_extension": ".py",
   "mimetype": "text/x-python",
   "name": "python",
   "nbconvert_exporter": "python",
   "pygments_lexer": "ipython3",
   "version": "3.7.3"
  }
 },
 "nbformat": 4,
 "nbformat_minor": 2
}
